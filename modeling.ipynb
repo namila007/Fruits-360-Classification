{
 "cells": [
  {
   "cell_type": "markdown",
   "metadata": {},
   "source": [
    "# Loading the dump data and Analyzing "
   ]
  },
  {
   "cell_type": "markdown",
   "metadata": {},
   "source": [
    "### Load the dump data"
   ]
  },
  {
   "cell_type": "code",
   "execution_count": 4,
   "metadata": {},
   "outputs": [],
   "source": [
    "import pickle\n",
    "import os\n",
    "\n",
    "ROOT_PATH = \"fruits-360/\"\n",
    "dump_directory = os.path.join(ROOT_PATH,\"DumpData\")\n",
    "\n",
    "\n",
    "ouf = open( os.path.join(dump_directory,\"train_data.dump\"), 'rb')\n",
    "train_data = pickle.load(ouf, encoding='bytes')\n",
    "ouf.close(  )\n",
    "\n",
    "ouf = open( os.path.join(dump_directory,\"test_data.dump\"), 'rb')\n",
    "train_data = pickle.load( ouf, encoding='bytes')\n",
    "ouf.close(  )\n"
   ]
  },
  {
   "cell_type": "code",
   "execution_count": null,
   "metadata": {},
   "outputs": [],
   "source": []
  },
  {
   "cell_type": "code",
   "execution_count": null,
   "metadata": {},
   "outputs": [],
   "source": []
  }
 ],
 "metadata": {
  "kernelspec": {
   "display_name": "Python 3",
   "language": "python",
   "name": "python3"
  },
  "language_info": {
   "codemirror_mode": {
    "name": "ipython",
    "version": 3
   },
   "file_extension": ".py",
   "mimetype": "text/x-python",
   "name": "python",
   "nbconvert_exporter": "python",
   "pygments_lexer": "ipython3",
   "version": "3.6.7"
  }
 },
 "nbformat": 4,
 "nbformat_minor": 2
}
